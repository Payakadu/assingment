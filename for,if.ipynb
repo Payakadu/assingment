{
 "cells": [
  {
   "cell_type": "code",
   "execution_count": 13,
   "id": "55e21d6e-4e34-477a-b658-41b2b5ef0646",
   "metadata": {},
   "outputs": [],
   "source": [
    "k = (\"fdufnxvj\")"
   ]
  },
  {
   "cell_type": "code",
   "execution_count": 14,
   "id": "be3b4aec-a75b-4a24-8f95-f95a0a962066",
   "metadata": {},
   "outputs": [
    {
     "data": {
      "text/plain": [
       "'fdufnxvj'"
      ]
     },
     "execution_count": 14,
     "metadata": {},
     "output_type": "execute_result"
    }
   ],
   "source": [
    "k"
   ]
  },
  {
   "cell_type": "code",
   "execution_count": 15,
   "id": "2c49c752-43f2-4e0b-a8a5-b6dabdc24565",
   "metadata": {},
   "outputs": [
    {
     "data": {
      "text/plain": [
       "'n'"
      ]
     },
     "execution_count": 15,
     "metadata": {},
     "output_type": "execute_result"
    }
   ],
   "source": [
    "k[4]"
   ]
  },
  {
   "cell_type": "code",
   "execution_count": 21,
   "id": "69631fce-f7d6-481e-b3c1-df947921af9a",
   "metadata": {},
   "outputs": [
    {
     "data": {
      "text/plain": [
       "'jvxnfudf'"
      ]
     },
     "execution_count": 21,
     "metadata": {},
     "output_type": "execute_result"
    }
   ],
   "source": [
    "k[::-1]"
   ]
  },
  {
   "cell_type": "code",
   "execution_count": null,
   "id": "96740b43-db4f-4789-a360-da1f2dffabdb",
   "metadata": {},
   "outputs": [],
   "source": [
    "k "
   ]
  },
  {
   "cell_type": "code",
   "execution_count": 22,
   "id": "1fe6a081-0689-451e-acf2-5e9b9d5c5025",
   "metadata": {},
   "outputs": [],
   "source": [
    "l=[1,2,3,4,5,6,7,8]"
   ]
  },
  {
   "cell_type": "code",
   "execution_count": 36,
   "id": "a37b2e7b-3534-43f4-91cd-1d60ff15c286",
   "metadata": {
    "tags": []
   },
   "outputs": [
    {
     "name": "stdout",
     "output_type": "stream",
     "text": [
      "2\n",
      "3\n",
      "4\n",
      "5\n",
      "6\n",
      "7\n",
      "8\n",
      "9\n"
     ]
    },
    {
     "data": {
      "text/plain": [
       "[2, 3, 4, 5, 6, 7, 8, 9]"
      ]
     },
     "execution_count": 36,
     "metadata": {},
     "output_type": "execute_result"
    }
   ],
   "source": [
    "l1 =[]\n",
    "for i in l :\n",
    "    print(i+1)\n",
    "    l1.append(i+1)\n",
    "l1"
   ]
  },
  {
   "cell_type": "code",
   "execution_count": 41,
   "id": "5db23d89-3b6d-4cd4-8acd-adb8eb577be0",
   "metadata": {},
   "outputs": [],
   "source": [
    "l=[\"pk\",\"heena\",\"minu\",\"tinku\"]"
   ]
  },
  {
   "cell_type": "code",
   "execution_count": 43,
   "id": "8a2f20be-04cc-48df-b03b-44fc1e115553",
   "metadata": {},
   "outputs": [
    {
     "name": "stdout",
     "output_type": "stream",
     "text": [
      "pk\n",
      "heena\n",
      "minu\n",
      "tinku\n"
     ]
    },
    {
     "data": {
      "text/plain": [
       "['PK', 'HEENA', 'MINU', 'TINKU']"
      ]
     },
     "execution_count": 43,
     "metadata": {},
     "output_type": "execute_result"
    }
   ],
   "source": [
    "l1 =[]\n",
    "for i in l:\n",
    "    print(i)\n",
    "    l1.append(i.upper())\n",
    "l1"
   ]
  },
  {
   "cell_type": "code",
   "execution_count": 1,
   "id": "a4b48fe5-78b9-486e-b7af-fe57f6b030ac",
   "metadata": {},
   "outputs": [],
   "source": [
    "l =[1,\"minu\",2.7,3,\"pk\",\"heena\",4,78.5,6,\"tinku\",7.88,8]\n",
    "l1_num =[]\n",
    "l2_str =[]\n",
    "for i in l:\n",
    "    if type(i)==int or type(i)==float :\n",
    "        l1_num.append(i)\n",
    "    else:\n",
    "            l2_str.append(i)"
   ]
  },
  {
   "cell_type": "code",
   "execution_count": 2,
   "id": "5d239703-e27b-4697-9dc6-c59237cc9d16",
   "metadata": {},
   "outputs": [
    {
     "data": {
      "text/plain": [
       "[1, 2.7, 3, 4, 78.5, 6, 7.88, 8]"
      ]
     },
     "execution_count": 2,
     "metadata": {},
     "output_type": "execute_result"
    }
   ],
   "source": [
    "l1_num"
   ]
  },
  {
   "cell_type": "code",
   "execution_count": 3,
   "id": "f10e87e5-dfdc-4793-bd1d-dc714fb59c14",
   "metadata": {},
   "outputs": [
    {
     "data": {
      "text/plain": [
       "['minu', 'pk', 'heena', 'tinku']"
      ]
     },
     "execution_count": 3,
     "metadata": {},
     "output_type": "execute_result"
    }
   ],
   "source": [
    "l2_str"
   ]
  },
  {
   "cell_type": "code",
   "execution_count": null,
   "id": "e4dfd443-9a85-446e-979c-d5704eebe1be",
   "metadata": {},
   "outputs": [],
   "source": []
  }
 ],
 "metadata": {
  "kernelspec": {
   "display_name": "Python 3 (ipykernel)",
   "language": "python",
   "name": "python3"
  },
  "language_info": {
   "codemirror_mode": {
    "name": "ipython",
    "version": 3
   },
   "file_extension": ".py",
   "mimetype": "text/x-python",
   "name": "python",
   "nbconvert_exporter": "python",
   "pygments_lexer": "ipython3",
   "version": "3.10.6"
  }
 },
 "nbformat": 4,
 "nbformat_minor": 5
}
